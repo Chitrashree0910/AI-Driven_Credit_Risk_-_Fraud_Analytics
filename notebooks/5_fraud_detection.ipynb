{
 "cells": [
  {
   "cell_type": "code",
   "execution_count": 2,
   "metadata": {},
   "outputs": [],
   "source": [
    "import pandas as pd\n",
    "import os"
   ]
  },
  {
   "cell_type": "code",
   "execution_count": 3,
   "metadata": {},
   "outputs": [],
   "source": [
    "# Defining Preprocessed dataset\n",
    "data_path = \"..\\data\\preprocessed dataset\"\n",
    "model_path = \"..\\models\""
   ]
  },
  {
   "cell_type": "code",
   "execution_count": 4,
   "metadata": {},
   "outputs": [
    {
     "name": "stdout",
     "output_type": "stream",
     "text": [
      "Data loaded successfully! X_test shape: (6000, 18), y_test shape: (6000, 1)\n"
     ]
    }
   ],
   "source": [
    "# Load the test dataset\n",
    "X_test = pd.read_csv(os.path.join(data_path, \"X_test.csv\"))\n",
    "y_test = pd.read_csv(os.path.join(data_path, \"y_test.csv\"))\n",
    "y_train = pd.read_csv(os.path.join(data_path, \"y_train.csv\"))\n",
    "X_train = pd.read_csv(os.path.join(data_path, \"X_train.csv\"))\n",
    "\n",
    "print(f\"Data loaded successfully! X_test shape: {X_test.shape}, y_test shape: {y_test.shape}\")"
   ]
  },
  {
   "cell_type": "markdown",
   "metadata": {},
   "source": [
    "Implementing AI-Driven Fraud Detection\n",
    "- Applying Anomaly detection to identify fraudulent transactions\n",
    "- Isolation Forest is an unsupervised ML technique that detects anomalies by isolating rare instances"
   ]
  },
  {
   "cell_type": "code",
   "execution_count": 5,
   "metadata": {},
   "outputs": [
    {
     "name": "stdout",
     "output_type": "stream",
     "text": [
      "Isolation Forest Detected 300 potential fraud cases.\n"
     ]
    }
   ],
   "source": [
    "from sklearn.ensemble import IsolationForest\n",
    "\n",
    "# Initialize Isolation Forest\n",
    "iso_forest = IsolationForest(n_estimators = 100, contamination = 0.05, random_state = 42)\n",
    "\n",
    "# Fit the model on X_test\n",
    "iso_forest.fit(X_test)\n",
    "\n",
    "# Predict anomalies (Outliers)\n",
    "y_pred_anomaly = iso_forest.predict(X_test)\n",
    "\n",
    "# Convert predictions: -1(Anomaly) -> 1 (Fraud), 1 (Normal) -> 0 (Non-Fraud)\n",
    "y_pred_anomaly = [1 if x == -1 else 0 for x in y_pred_anomaly]\n",
    "\n",
    "# Add the predictions to a Dataframe\n",
    "fraud_detection_results = pd.DataFrame({\n",
    "    \"Actual\": y_test.values.flatten(),\n",
    "    \"IsolationForest_Prediction\": y_pred_anomaly\n",
    "})\n",
    "\n",
    "# Count detected fraud cases\n",
    "num_fraud_detected = fraud_detection_results[\"IsolationForest_Prediction\"].sum()\n",
    "\n",
    "print(f\"Isolation Forest Detected {num_fraud_detected} potential fraud cases.\")"
   ]
  },
  {
   "cell_type": "markdown",
   "metadata": {},
   "source": [
    "Observations:\n",
    "- The `contamination = 0.05` it forces the model to mark 5% of cases as fraud, even if fewer or more real fraud cases exist\n",
    "- Isolation Forest is an unsupervised anomaly detection model - means it does not use labels `y_test` so it assumes a certain percentage of data is fraudulent based on the contamination value\n",
    "\n",
    "Action:\n",
    "- `y_test` has fraud cases because we split it from the labeled dataset - using this comparing the results how well Isolation Forest's predictions match"
   ]
  },
  {
   "cell_type": "code",
   "execution_count": 6,
   "metadata": {},
   "outputs": [
    {
     "name": "stdout",
     "output_type": "stream",
     "text": [
      "              precision    recall  f1-score   support\n",
      "\n",
      "           0       0.78      0.96      0.86      4673\n",
      "           1       0.33      0.08      0.12      1327\n",
      "\n",
      "    accuracy                           0.76      6000\n",
      "   macro avg       0.56      0.52      0.49      6000\n",
      "weighted avg       0.68      0.76      0.70      6000\n",
      "\n"
     ]
    }
   ],
   "source": [
    "# Comparing with the actual labels\n",
    "from sklearn.metrics import confusion_matrix, classification_report\n",
    "\n",
    "# Comparing predictions with actual fraud labels\n",
    "print(classification_report(y_test, y_pred_anomaly))"
   ]
  },
  {
   "cell_type": "markdown",
   "metadata": {},
   "source": [
    "Observations:\n",
    "- 0 (non-fraud): 4673\n",
    "- 1 (fraud): 1327\n",
    "- From the output: There are 1327 actual fraud cases in y_test"
   ]
  },
  {
   "cell_type": "code",
   "execution_count": 7,
   "metadata": {},
   "outputs": [
    {
     "name": "stdout",
     "output_type": "stream",
     "text": [
      "Isolation Forest Detection 1323 potential fraud cases based on 22.12% contamination rate.\n"
     ]
    }
   ],
   "source": [
    "# Re-training isolation forest with dynamic contamination\n",
    "\n",
    "# Dynamically set contamination based on training fraud ratio\n",
    "actual_fraud_percentage = y_train.mean().iloc[0]\n",
    "\n",
    "# Training Isolation Forest\n",
    "iso_forest = IsolationForest(n_estimators = 100, contamination = actual_fraud_percentage, random_state = 42)\n",
    "iso_forest.fit(X_train)     # This will train in X-train data instead of X_test\n",
    "\n",
    "# Predict on X_test\n",
    "y_pred_anomaly = iso_forest.predict(X_test)\n",
    "\n",
    "# Convert predictions: -1(Anomaly)-> 1(Fraud), 1(Normal)-> 0(Non-Fraud)\n",
    "y_pred_anomaly = [1 if x == -1 else 0 for x in y_pred_anomaly]\n",
    "\n",
    "# Saving the results in a Dataframe\n",
    "fraud_detection_results = pd.DataFrame({\n",
    "    \"Actual\": y_test.values.flatten(),\n",
    "    \"IsolationForest_Prediction\": y_pred_anomaly\n",
    "})\n",
    "\n",
    "# Count of detected fraud cases\n",
    "num_fraud_detected = fraud_detection_results[\"IsolationForest_Prediction\"].sum()\n",
    "\n",
    "print(f\"Isolation Forest Detection {num_fraud_detected} potential fraud cases based on {actual_fraud_percentage:.2%} contamination rate.\")"
   ]
  },
  {
   "cell_type": "markdown",
   "metadata": {},
   "source": [
    "Observations:\n",
    "- 1323 fraud cases detected - This closely matches with the number of actual fraud cases(1327)\n",
    "- The contamination rate (22.12%) was set dynamically based on the actual fraud percentage in training data\n",
    "- Isolation Forest then flagged approximately the same proportion of cases in `X_test`"
   ]
  },
  {
   "cell_type": "code",
   "execution_count": 8,
   "metadata": {},
   "outputs": [
    {
     "name": "stdout",
     "output_type": "stream",
     "text": [
      "              precision    recall  f1-score   support\n",
      "\n",
      "           0       0.80      0.80      0.80      4673\n",
      "           1       0.30      0.30      0.30      1327\n",
      "\n",
      "    accuracy                           0.69      6000\n",
      "   macro avg       0.55      0.55      0.55      6000\n",
      "weighted avg       0.69      0.69      0.69      6000\n",
      "\n"
     ]
    }
   ],
   "source": [
    "# Checking model performace again to see if precision, recall, and F1-score improved\n",
    "\n",
    "# Comparing with the actual labels\n",
    "from sklearn.metrics import classification_report\n",
    "\n",
    "print(classification_report(y_test, y_pred_anomaly))"
   ]
  },
  {
   "cell_type": "markdown",
   "metadata": {},
   "source": [
    "Observations:\n",
    "- Recall for fraud cases increased: before the model detected only 0.08 now it detects 0.30 of actual fraud cases\n",
    "- Precision for fraud decreased from 0.33 to 0.30: Model misclassified more normal transactions as fraud\n",
    "- Accuracy dropped from 0.76 to 0.69: more fraud cases are detected, model now labels more transactions as fraudulent"
   ]
  },
  {
   "cell_type": "code",
   "execution_count": 9,
   "metadata": {},
   "outputs": [
    {
     "name": "stdout",
     "output_type": "stream",
     "text": [
      "\n",
      "Training Isolation Forest with contamination = 15.00%\n",
      "\n",
      "              precision    recall  f1-score   support\n",
      "\n",
      "           0       0.79      0.86      0.83      4673\n",
      "           1       0.30      0.21      0.25      1327\n",
      "\n",
      "    accuracy                           0.72      6000\n",
      "   macro avg       0.55      0.54      0.54      6000\n",
      "weighted avg       0.69      0.72      0.70      6000\n",
      "\n",
      "\n",
      "Training Isolation Forest with contamination = 22.12%\n",
      "\n",
      "              precision    recall  f1-score   support\n",
      "\n",
      "           0       0.80      0.80      0.80      4673\n",
      "           1       0.30      0.30      0.30      1327\n",
      "\n",
      "    accuracy                           0.69      6000\n",
      "   macro avg       0.55      0.55      0.55      6000\n",
      "weighted avg       0.69      0.69      0.69      6000\n",
      "\n",
      "\n",
      "Training Isolation Forest with contamination = 30.00%\n",
      "\n",
      "              precision    recall  f1-score   support\n",
      "\n",
      "           0       0.81      0.73      0.77      4673\n",
      "           1       0.29      0.39      0.34      1327\n",
      "\n",
      "    accuracy                           0.66      6000\n",
      "   macro avg       0.55      0.56      0.55      6000\n",
      "weighted avg       0.69      0.66      0.67      6000\n",
      "\n"
     ]
    },
    {
     "data": {
      "text/html": [
       "<div>\n",
       "<style scoped>\n",
       "    .dataframe tbody tr th:only-of-type {\n",
       "        vertical-align: middle;\n",
       "    }\n",
       "\n",
       "    .dataframe tbody tr th {\n",
       "        vertical-align: top;\n",
       "    }\n",
       "\n",
       "    .dataframe thead th {\n",
       "        text-align: right;\n",
       "    }\n",
       "</style>\n",
       "<table border=\"1\" class=\"dataframe\">\n",
       "  <thead>\n",
       "    <tr style=\"text-align: right;\">\n",
       "      <th></th>\n",
       "      <th>precision</th>\n",
       "      <th>recall</th>\n",
       "      <th>f1-score</th>\n",
       "    </tr>\n",
       "  </thead>\n",
       "  <tbody>\n",
       "    <tr>\n",
       "      <th>0.150000</th>\n",
       "      <td>0.303456</td>\n",
       "      <td>0.211756</td>\n",
       "      <td>0.249445</td>\n",
       "    </tr>\n",
       "    <tr>\n",
       "      <th>0.221218</th>\n",
       "      <td>0.297808</td>\n",
       "      <td>0.296910</td>\n",
       "      <td>0.297358</td>\n",
       "    </tr>\n",
       "    <tr>\n",
       "      <th>0.300000</th>\n",
       "      <td>0.293220</td>\n",
       "      <td>0.391108</td>\n",
       "      <td>0.335163</td>\n",
       "    </tr>\n",
       "  </tbody>\n",
       "</table>\n",
       "</div>"
      ],
      "text/plain": [
       "          precision    recall  f1-score\n",
       "0.150000   0.303456  0.211756  0.249445\n",
       "0.221218   0.297808  0.296910  0.297358\n",
       "0.300000   0.293220  0.391108  0.335163"
      ]
     },
     "execution_count": 9,
     "metadata": {},
     "output_type": "execute_result"
    }
   ],
   "source": [
    "# Analyzing different contamination rates (15%, actual_fraud_percentage, 30%)\n",
    "\n",
    "from sklearn.metrics import classification_report\n",
    "import pandas as pd\n",
    "\n",
    "# Looping different contamination values\n",
    "contamination_values = [0.15, actual_fraud_percentage, 0.30]\n",
    "\n",
    "results = {}\n",
    "\n",
    "for contamination in contamination_values:\n",
    "    print(f\"\\nTraining Isolation Forest with contamination = {contamination:.2%}\\n\")\n",
    "\n",
    "    # Training Isolation Forest\n",
    "    iso_forest = IsolationForest(n_estimators = 100, contamination = contamination, random_state = 42)\n",
    "    iso_forest.fit(X_train)\n",
    "\n",
    "    # Prediction\n",
    "    y_pred_anomaly = iso_forest.predict(X_test)\n",
    "\n",
    "    # Convert predictions: -1 (Anomaly) -> 1 (Fraud), 1 (Normal) -> 0 (Non-Fraud)\n",
    "    y_pred_anomaly = [1 if x == -1 else 0 for x in y_pred_anomaly]\n",
    "\n",
    "    # Evaluation of performance\n",
    "    report = classification_report(y_test, y_pred_anomaly, output_dict = True)\n",
    "\n",
    "    results[contamination] = report\n",
    "\n",
    "    print(classification_report(y_test, y_pred_anomaly))\n",
    "\n",
    "df_results = pd.DataFrame({k: v['1'] for k, v in results.items()}).T\n",
    "df_results[['precision', 'recall', 'f1-score']]"
   ]
  },
  {
   "cell_type": "markdown",
   "metadata": {},
   "source": [
    "Observations:\n",
    "- Lower Contamination 15%\n",
    "    - Higher precision of 0.30 but lower recall of 0.21\n",
    "    - Detects fewer fraud cases but is more precise\n",
    "- Actual Contamination 22.12%\n",
    "    - Balanced recall of 0.30 and precision of 0.30\n",
    "    - It aligns with the actual fraud rate in the dataset\n",
    "- Higher Contamination 30%\n",
    "    - Lower precision of 0.29 and higher recall of 0.39\n",
    "    - Detects more fraud cases"
   ]
  },
  {
   "cell_type": "markdown",
   "metadata": {},
   "source": [
    "Training and Evaluating Local Outlier Factor (LOF)"
   ]
  },
  {
   "cell_type": "code",
   "execution_count": 12,
   "metadata": {},
   "outputs": [
    {
     "name": "stdout",
     "output_type": "stream",
     "text": [
      "              precision    recall  f1-score   support\n",
      "\n",
      "           0       0.79      0.79      0.79      4673\n",
      "           1       0.25      0.24      0.24      1327\n",
      "\n",
      "    accuracy                           0.67      6000\n",
      "   macro avg       0.52      0.52      0.52      6000\n",
      "weighted avg       0.67      0.67      0.67      6000\n",
      "\n"
     ]
    }
   ],
   "source": [
    "from sklearn.neighbors import LocalOutlierFactor\n",
    "from sklearn.metrics import classification_report\n",
    "\n",
    "# Converting X_train and X_test to NumPy arrays\n",
    "X_train_array = X_train.to_numpy()\n",
    "X_test_array = X_test.to_numpy()\n",
    "\n",
    "# Training LOF model\n",
    "lof = LocalOutlierFactor(n_neighbors = 20, contamination = actual_fraud_percentage, novelty = True)\n",
    "lof.fit(X_train_array)\n",
    "\n",
    "# Predict on X_test\n",
    "y_pred_lof = lof.predict(X_test_array)\n",
    "\n",
    "# Convert predictions: -1(Anomaly)->1(Fraud), 1(Normal)->0(Non-Fraud)\n",
    "y_pred_lof = [1 if x == -1 else 0 for x in y_pred_lof]\n",
    "\n",
    "print(classification_report(y_test, y_pred_lof))"
   ]
  },
  {
   "cell_type": "markdown",
   "metadata": {},
   "source": [
    "Comparison of LOF vs Isolation Forest\n",
    "- Isolation Forest (22% contamination):\n",
    "    - Precision (Fraud): 0.30\n",
    "    - Recall (Fraud): 0.30\n",
    "    - F1-score(Fraud): 0.30\n",
    "    - Accuracy(Fraud): 0.69\n",
    "- Local Outlier Factor (LOF):\n",
    "    - Precision (Fraud): 0.25\n",
    "    - Recall (Fraud): 0.24\n",
    "    - F1-score(Fraud): 0.24\n",
    "    - Accuracy(Fraud): 0.67\n",
    "\n",
    "- LOF has lower precision and recall - means it detects fewer fraud cases correctly\n",
    "- Accuracy is also slightly lower, and F1-score for fraud is very low in LOF\n",
    "- This suggests LOF is not as effective in detecting fraud compared to Isolation Forest"
   ]
  },
  {
   "cell_type": "markdown",
   "metadata": {},
   "source": [
    "Training and Evaluating One-Class SVM"
   ]
  },
  {
   "cell_type": "code",
   "execution_count": 13,
   "metadata": {},
   "outputs": [
    {
     "name": "stdout",
     "output_type": "stream",
     "text": [
      "              precision    recall  f1-score   support\n",
      "\n",
      "           0       0.79      0.78      0.79      4673\n",
      "           1       0.26      0.27      0.26      1327\n",
      "\n",
      "    accuracy                           0.67      6000\n",
      "   macro avg       0.52      0.53      0.53      6000\n",
      "weighted avg       0.67      0.67      0.67      6000\n",
      "\n"
     ]
    }
   ],
   "source": [
    "from sklearn.svm import OneClassSVM\n",
    "from sklearn.metrics import classification_report\n",
    "\n",
    "# Training One-class SVM model\n",
    "oc_svm = OneClassSVM(kernel = 'rbf', gamma = 'scale', nu = actual_fraud_percentage)\n",
    "oc_svm.fit(X_train_array)\n",
    "\n",
    "# Predict on X_test\n",
    "y_pred_svm = oc_svm.predict(X_test_array)\n",
    "\n",
    "# Convert predictions: -1 (Anomaly) -> 1 (Fraud), 1 (Normal) -> 0 (Non-Fraud)\n",
    "y_pred_svm = [1 if x == -1 else 0 for x in y_pred_svm]\n",
    "\n",
    "print(classification_report(y_test, y_pred_svm))"
   ]
  },
  {
   "cell_type": "markdown",
   "metadata": {},
   "source": [
    "Comparison of One-Class SVM vs Isolation Forest\n",
    "- Isolation Forest (22% contamination):\n",
    "    - Precision (Fraud): 0.30\n",
    "    - Recall (Fraud): 0.30\n",
    "    - F1-score(Fraud): 0.30\n",
    "    - Accuracy(Fraud): 0.69\n",
    "- One-Class SVM:\n",
    "    - Precision (Fraud): 0.26\n",
    "    - Recall (Fraud): 0.27\n",
    "    - F1-score(Fraud): 0.24\n",
    "    - Accuracy(Fraud): 0.67\n",
    "\n",
    "- One-class SVM is slightly better than the LOF but still lower than the Isolation Forest\n",
    "\n",
    "Conclusion:\n",
    "- After comparing Isolation Forest with LOF and One-Class SVM: Isolation Forest (with 22% contamination) is the best choice as it provides the best fraud detection balance"
   ]
  },
  {
   "cell_type": "code",
   "execution_count": null,
   "metadata": {},
   "outputs": [
    {
     "name": "stdout",
     "output_type": "stream",
     "text": [
      "Anomaly scores saved successfully!\n"
     ]
    }
   ],
   "source": [
    "# Extracting anomaly scores from Isolation Forest and store them for future fraud risk analysis\n",
    "import pandas as pd\n",
    "import numpy as np\n",
    "\n",
    "# Ensure y_test and y_pred_anomaly are 1D\n",
    "y_test_1d = np.array(y_test).flatten()\n",
    "y_pred_anomaly_1d = np.array(y_pred_anomaly).flatten()\n",
    "# anomaly_scores_1d = anomaly_scores.flatten()\n",
    "\n",
    "# Convert X_test_array back to DataFrame before calling decision_function\n",
    "X_test_df = pd.DataFrame(X_test_array, columns=X_train.columns)\n",
    "\n",
    "# Get anomaly scores from Isolation Forest\n",
    "anomaly_scores = iso_forest.decision_function(X_test_df)\n",
    "\n",
    "# Create a DataFrame to store results\n",
    "anomaly_results = pd.DataFrame({\n",
    "    \"actual_label\": y_test_1d,\n",
    "    \"predicted_label\": y_pred_anomaly_1d,\n",
    "    # \"anomaly_score\": anomaly_scores_1d\n",
    "})\n",
    "\n",
    "# Save to CSV for further fraud analysis\n",
    "anomaly_results.to_csv(\"../data/anomaly_scores.csv\", index=False)\n",
    "\n",
    "print(\"Anomaly scores saved successfully!\")"
   ]
  },
  {
   "cell_type": "code",
   "execution_count": null,
   "metadata": {},
   "outputs": [],
   "source": []
  }
 ],
 "metadata": {
  "kernelspec": {
   "display_name": "finance_env",
   "language": "python",
   "name": "python3"
  },
  "language_info": {
   "codemirror_mode": {
    "name": "ipython",
    "version": 3
   },
   "file_extension": ".py",
   "mimetype": "text/x-python",
   "name": "python",
   "nbconvert_exporter": "python",
   "pygments_lexer": "ipython3",
   "version": "3.11.11"
  }
 },
 "nbformat": 4,
 "nbformat_minor": 2
}
