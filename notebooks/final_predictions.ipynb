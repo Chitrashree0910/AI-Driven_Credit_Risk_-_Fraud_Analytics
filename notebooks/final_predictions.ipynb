{
 "cells": [
  {
   "cell_type": "code",
   "execution_count": 1,
   "metadata": {},
   "outputs": [],
   "source": [
    "import pandas as pd\n",
    "import joblib\n",
    "import os"
   ]
  },
  {
   "cell_type": "code",
   "execution_count": 2,
   "metadata": {},
   "outputs": [],
   "source": [
    "# Loading trained models & scaler\n",
    "model_path = \"../models/\"\n",
    "xgb_model = joblib.load(os.path.join(model_path, \"xgboost_model.pkl\"))\n",
    "scaler = joblib.load(os.path.join(model_path, \"scaler.pkl\"))"
   ]
  },
  {
   "cell_type": "code",
   "execution_count": 3,
   "metadata": {},
   "outputs": [],
   "source": [
    "# Load test dataset (Ensure this is the same as when you trained the model)\n",
    "X_test = pd.read_csv(\"..\\data\\preprocessed dataset\\X_test.csv\")"
   ]
  },
  {
   "cell_type": "code",
   "execution_count": 4,
   "metadata": {},
   "outputs": [],
   "source": [
    "# Adding the ID column back to match predictions with the actual users\n",
    "id_data = pd.read_csv(\"../data/original_dataset.csv\")[[\"ID\"]]  # Extract IDs from the original dataset\n",
    "X_test[\"ID\"] = id_data.iloc[X_test.index][\"ID\"]  # Match IDs back using the same index"
   ]
  },
  {
   "cell_type": "code",
   "execution_count": 5,
   "metadata": {},
   "outputs": [],
   "source": [
    "# Extract features used during training\n",
    "feature_cols = [\"LIMIT_BAL\", \"SEX\", \"EDUCATION\", \"MARRIAGE\", \"AGE\", \n",
    "                \"PAY_0\", \"PAY_2\", \"PAY_3\", \"PAY_4\", \"PAY_5\", \"PAY_6\", \n",
    "                \"PAY_AMT1\", \"PAY_AMT2\", \"PAY_AMT3\", \"PAY_AMT4\", \"PAY_AMT5\", \"PAY_AMT6\", \n",
    "                \"BILL_MEAN\"]  \n",
    "\n",
    "# Keeping only the required features\n",
    "X_test_features = X_test[feature_cols] "
   ]
  },
  {
   "cell_type": "code",
   "execution_count": 6,
   "metadata": {},
   "outputs": [],
   "source": [
    "# Scale using the saved scaler\n",
    "X_test_scaled = scaler.transform(X_test_features)"
   ]
  },
  {
   "cell_type": "code",
   "execution_count": 7,
   "metadata": {},
   "outputs": [],
   "source": [
    "# Predict probabilities\n",
    "risk_probs = xgb_model.predict_proba(X_test_scaled)[:, 1]"
   ]
  },
  {
   "cell_type": "code",
   "execution_count": 8,
   "metadata": {},
   "outputs": [],
   "source": [
    "# Applying threshold for risk categorization\n",
    "threshold = 0.35  \n",
    "X_test[\"Risk_Score\"] = risk_probs\n",
    "X_test[\"Risk_Category\"] = X_test[\"Risk_Score\"].apply(lambda x: \"High Risk\" if x >= threshold else \"Low Risk\")"
   ]
  },
  {
   "cell_type": "code",
   "execution_count": 9,
   "metadata": {},
   "outputs": [
    {
     "name": "stdout",
     "output_type": "stream",
     "text": [
      "Final predictions saved to `final_predictions.csv`\n"
     ]
    }
   ],
   "source": [
    "# Save final predictions\n",
    "final_predictions = X_test[[\"ID\", \"Risk_Score\", \"Risk_Category\"]]  \n",
    "final_predictions.to_csv(\"../data/final_predictions.csv\", index=False)\n",
    "\n",
    "print(\"Final predictions saved to `final_predictions.csv`\")"
   ]
  },
  {
   "cell_type": "code",
   "execution_count": null,
   "metadata": {},
   "outputs": [],
   "source": []
  }
 ],
 "metadata": {
  "kernelspec": {
   "display_name": "finance_env",
   "language": "python",
   "name": "python3"
  },
  "language_info": {
   "codemirror_mode": {
    "name": "ipython",
    "version": 3
   },
   "file_extension": ".py",
   "mimetype": "text/x-python",
   "name": "python",
   "nbconvert_exporter": "python",
   "pygments_lexer": "ipython3",
   "version": "3.11.11"
  }
 },
 "nbformat": 4,
 "nbformat_minor": 2
}
